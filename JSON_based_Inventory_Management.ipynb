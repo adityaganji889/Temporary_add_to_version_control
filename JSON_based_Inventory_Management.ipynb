{
  "nbformat": 4,
  "nbformat_minor": 0,
  "metadata": {
    "colab": {
      "name": "JSON_based_Inventory_Management.ipynb",
      "provenance": [],
      "collapsed_sections": []
    },
    "kernelspec": {
      "name": "python3",
      "display_name": "Python 3"
    },
    "language_info": {
      "name": "python"
    }
  },
  "cells": [
    {
      "cell_type": "code",
      "metadata": {
        "id": "SimCWmcWi0s5"
      },
      "source": [
        "record = { 11602259 : {\"productName\": \"Cadbury Dairy Milk\" , \"exp_date\":\"07-09-2022\" , \"category\" : \"Chocolates\",\"price\":10,\"quantity\":100 },\n",
        "           11602260 : {\"productName\": \"Parle-G\", \"exp_date\":\"01-01-2022\" , \"category\" :\"Biscuits\" ,\"price\":20,\"quantity\":70},\n",
        "           11602261 : {\"productName\": \"Haldiram-Khatta-Meetha\"   , \"exp_date\":\"25-12-2021\" , \"category\" :\"Snacks\" ,\"price\":10,\"quantity\":80},\n",
        "          11602262 : {\"productName\": \"Haldiram-Phalari-Chiwda\"   , \"exp_date\":\"12-12-2021\" , \"category\" :\"Snacks\" ,\"price\":10,\"quantity\":50},\n",
        "          11602263 : {\"productName\": \"Haldiram-Salted-Peanuts\"   , \"exp_date\":\"05-11-2021\" , \"category\" :\"Snacks\" ,\"price\":10,\"quantity\":60},\n",
        "          11602264 : {\"productName\": \"Haldiram-Aloo-Bhujia\"   , \"exp_date\":\"01-11-2021\" , \"category\" :\"Snacks\" ,\"price\":10,\"quantity\":70},\n",
        "          11602265 : {\"productName\": \"Haldiram-Bhujia-Shev\"   , \"exp_date\":\"28-10-2021\" , \"category\" :\"Snacks\" ,\"price\":10,\"quantity\":80},\n",
        "          11602266 : {\"productName\": \"Parle-Monaco\"   , \"exp_date\":\"25-10-2021\" , \"category\" :\"Biscuits\" ,\"price\":20,\"quantity\":50},\n",
        "          11602267 : {\"productName\": \"Lays-Chips\"   , \"exp_date\":\"15-11-2021\" , \"category\" :\"Chips\" ,\"price\":20,\"quantity\":70},\n",
        "          11602268 : {\"productName\": \"Diamond-Chips\"   , \"exp_date\":\"29-11-2021\" , \"category\" :\"Chips\" ,\"price\":15,\"quantity\":75},\n",
        "          11602269 : {\"productName\": \"Kurkure\"   , \"exp_date\":\"18-11-2021\" , \"category\" :\"Snacks\" ,\"price\":15,\"qunatity\":95},\n",
        "          11602270 : {\"productName\": \"Oreo\"   , \"exp_date\":\"20-12-2021\" , \"category\" :\"Biscuits\" ,\"price\":10,\"quantity\":80},\n",
        "          11602271 : {\"productName\": \"Haldiram-Son-Papadi\"   , \"exp_date\":\"15-10-2021\" , \"category\" :\"Sweets\" ,\"price\":50,\"quantity\":100},\n",
        "          11602272 : {\"productName\": \"Haldiram-Gulab-Jamun\"   , \"exp_date\":\"26-10-2021\" , \"category\" :\"Sweets\" ,\"price\":90,\"quantity\":100},\n",
        "          11602273 : {\"productName\": \"Haldiram-Rasgulla\"   , \"exp_date\":\"01-11-2021\" , \"category\" :\"Sweets\",\"price\":100,\"quantity\":80},\n",
        "          11602285 : {\"productName\": \"Vicks-VapourRub\"   , \"exp_date\":\"15-12-2021\" , \"category\" :\"Medicines\" ,\"price\":40,\"quantity\":70},\n",
        "          11602286 : {\"productName\": \"Everfresh-Eye-Drops\"   , \"exp_date\":\"01-01-2022\" , \"category\" :\"Medicines\" ,\"price\":50,\"quantity\":60},\n",
        "          11602287 : {\"productName\": \"Grillintus-Cough-Syrup\"   , \"exp_date\":\"14-02-2022\" , \"category\" :\"Medicines\" ,\"price\":140,\"quantity\":120},\n",
        "          11602288 : {\"productName\": \"Crocin-Paracetomol-L550\"   , \"exp_date\":\"29-01-2022\" , \"category\" : \"Medicines\",\"price\":50,\"quantity\":100},\n",
        "          11602289 : {\"productName\": \"Vicks-Pain-Killer\"   , \"exp_date\":\"15-01-2022\" , \"category\" :\"Medicines\" ,\"price\":30,\"quantity\":140},\n",
        "          11602290 : {\"productName\": \"Fortune-Sunflower-Oil\"   , \"exp_date\":\"05-05-2022\" , \"category\" :\"Oil\" ,\"price\":130,\"quantity\":100},\n",
        "          11602291 : {\"productName\": \"Svity-Kolam-RiceBran-Oil\"   , \"exp_date\":\"15-04-2022\" , \"category\" :\"Oil\" ,\"price\":110,\"quantity\":85},\n",
        "          11602292 : {\"productName\": \"Amul-Ghee\"   , \"exp_date\":\"25-07-2022\" , \"category\" :\"Dairy-Items\" ,\"price\":100,\"quantity\":80},\n",
        "          11602293 : {\"productName\": \"Gowardhan-Ghee\"   , \"exp_date\":\"15-06-2022\" , \"category\" :\"Dairy-Items\",\"price\":80,\"quantity\":95},\n",
        "          11602294 : {\"productName\": \"Patanjali-Ghee\"   , \"exp_date\":\"28-05-2022\" , \"category\" :\"Dairy-Items\" ,\"price\":90,\"quantity\":105},\n",
        "          11602295 : {\"productName\": \"Patanjali-Chips\"   , \"exp_date\":\"19-12-2021\" , \"category\" :\"Chips\" ,\"price\":15,\"quantity\":115},\n",
        "          11602296 : {\"productName\": \"Patanjali-Shev\"   , \"exp_date\":\"28-11-2021\" , \"category\" :\"Snacks\" ,\"price\":15,\"quantity\":120},\n",
        "          11602297 : {\"productName\": \"Patanjali-MilkCream-Biscuit\"   , \"exp_date\":\"27-12-2021\" , \"category\" :\"Biscuits\" ,\"price\":20,\"quantity\":80},\n",
        "          11602298 : {\"productName\": \"TATA Agni-Gold \"   , \"exp_date\":\"20-12-2021\" , \"category\" :\"Tea-Powder\" ,\"price\":150,\"quantity\":100},\n",
        "          11602299 : {\"productName\": \"Society Tea-Powder\"   , \"exp_date\":\"29-11-2021\" , \"category\" :\"Tea-Powder\" ,\"price\":130,\"quantity\":75},\n",
        "          11602300 : {\"productName\": \"Wah-Taj\"   , \"exp_date\":\"18-12-2021\" , \"category\" :\"Tea-Powder\" ,\"price\":170,\"quantity\":110},\n",
        "          11602301 : {\"productName\": \"Cadbury-5Star\"   , \"exp_date\":\"23-12-2021\" , \"category\" :\"Chocolates\" ,\"price\":10,\"quantity\":110},\n",
        "          11602302 : {\"productName\": \"Munch\"   , \"exp_date\":\"28-12-2021\" , \"category\" :\"Chocolates\" ,\"price\":10,\"quantity\":80},\n",
        "          11602303 : {\"productName\": \"Cadbury-Perk\"   , \"exp_date\":\"08-12-2021\" , \"category\" :\"Chocolates\" ,\"price\":10,\"quantity\":90},\n",
        "          11602304 : {\"productName\": \"Nestle-Milkybar\"   , \"exp_date\":\"16-12-2021\" , \"category\" :\"Chocolates\" ,\"price\":15,\"quantity\":120},\n",
        "          11602305 : {\"productName\": \"Cadbury-Fuse\"   , \"exp_date\":\"24-12-2021\" , \"category\" :\"Chocolates\" ,\"price\":40,\"quantity\":60}}"
      ],
      "execution_count": 1,
      "outputs": []
    },
    {
      "cell_type": "code",
      "metadata": {
        "colab": {
          "base_uri": "https://localhost:8080/"
        },
        "id": "YJlK9L_Dr38p",
        "outputId": "ea130149-bcb8-4451-db05-5a7277ba1d9c"
      },
      "source": [
        "len(record)"
      ],
      "execution_count": 2,
      "outputs": [
        {
          "output_type": "execute_result",
          "data": {
            "text/plain": [
              "36"
            ]
          },
          "metadata": {},
          "execution_count": 2
        }
      ]
    },
    {
      "cell_type": "code",
      "metadata": {
        "colab": {
          "base_uri": "https://localhost:8080/"
        },
        "id": "s2VuzKe6Vz0_",
        "outputId": "c6b57f83-f5e1-4fce-d6ea-6e9cd7d54f14"
      },
      "source": [
        "reg = int(input(\"Enter the prod_id:\"))\n",
        "print(\"Product Name:\",record[reg]['productName'])\n",
        "print(\"Expiry Date:\",record[reg]['exp_date'])\n",
        "print(\"Category:\",record[reg]['category'])\n",
        "print(\"Product Price(each (in INR)):\",record[reg]['price'])\n",
        "print(\"Total Available Quantity:\",record[reg]['quantity'])"
      ],
      "execution_count": 3,
      "outputs": [
        {
          "output_type": "stream",
          "name": "stdout",
          "text": [
            "Enter the prod_id:11602305\n",
            "Product Name: Cadbury-Fuse\n",
            "Expiry Date: 24-12-2021\n",
            "Category: Chocolates\n",
            "Product Price(each (in INR)): 40\n",
            "Total Available Quantity: 60\n"
          ]
        }
      ]
    },
    {
      "cell_type": "code",
      "metadata": {
        "id": "GnZedQXvZncV"
      },
      "source": [
        "import json"
      ],
      "execution_count": 4,
      "outputs": []
    },
    {
      "cell_type": "code",
      "metadata": {
        "id": "B50KFXNhZuCH"
      },
      "source": [
        "js = json.dumps(record)"
      ],
      "execution_count": 5,
      "outputs": []
    },
    {
      "cell_type": "code",
      "metadata": {
        "colab": {
          "base_uri": "https://localhost:8080/",
          "height": 137
        },
        "id": "ip8ZcEIRZzEq",
        "outputId": "387a1017-8f71-479f-cb02-f72adc6dbd21"
      },
      "source": [
        "js"
      ],
      "execution_count": 6,
      "outputs": [
        {
          "output_type": "execute_result",
          "data": {
            "application/vnd.google.colaboratory.intrinsic+json": {
              "type": "string"
            },
            "text/plain": [
              "'{\"11602259\": {\"productName\": \"Cadbury Dairy Milk\", \"exp_date\": \"07-09-2022\", \"category\": \"Chocolates\", \"price\": 10, \"quantity\": 100}, \"11602260\": {\"productName\": \"Parle-G\", \"exp_date\": \"01-01-2022\", \"category\": \"Biscuits\", \"price\": 20, \"quantity\": 70}, \"11602261\": {\"productName\": \"Haldiram-Khatta-Meetha\", \"exp_date\": \"25-12-2021\", \"category\": \"Snacks\", \"price\": 10, \"quantity\": 80}, \"11602262\": {\"productName\": \"Haldiram-Phalari-Chiwda\", \"exp_date\": \"12-12-2021\", \"category\": \"Snacks\", \"price\": 10, \"quantity\": 50}, \"11602263\": {\"productName\": \"Haldiram-Salted-Peanuts\", \"exp_date\": \"05-11-2021\", \"category\": \"Snacks\", \"price\": 10, \"quantity\": 60}, \"11602264\": {\"productName\": \"Haldiram-Aloo-Bhujia\", \"exp_date\": \"01-11-2021\", \"category\": \"Snacks\", \"price\": 10, \"quantity\": 70}, \"11602265\": {\"productName\": \"Haldiram-Bhujia-Shev\", \"exp_date\": \"28-10-2021\", \"category\": \"Snacks\", \"price\": 10, \"quantity\": 80}, \"11602266\": {\"productName\": \"Parle-Monaco\", \"exp_date\": \"25-10-2021\", \"category\": \"Biscuits\", \"price\": 20, \"quantity\": 50}, \"11602267\": {\"productName\": \"Lays-Chips\", \"exp_date\": \"15-11-2021\", \"category\": \"Chips\", \"price\": 20, \"quantity\": 70}, \"11602268\": {\"productName\": \"Diamond-Chips\", \"exp_date\": \"29-11-2021\", \"category\": \"Chips\", \"price\": 15, \"quantity\": 75}, \"11602269\": {\"productName\": \"Kurkure\", \"exp_date\": \"18-11-2021\", \"category\": \"Snacks\", \"price\": 15, \"qunatity\": 95}, \"11602270\": {\"productName\": \"Oreo\", \"exp_date\": \"20-12-2021\", \"category\": \"Biscuits\", \"price\": 10, \"quantity\": 80}, \"11602271\": {\"productName\": \"Haldiram-Son-Papadi\", \"exp_date\": \"15-10-2021\", \"category\": \"Sweets\", \"price\": 50, \"quantity\": 100}, \"11602272\": {\"productName\": \"Haldiram-Gulab-Jamun\", \"exp_date\": \"26-10-2021\", \"category\": \"Sweets\", \"price\": 90, \"quantity\": 100}, \"11602273\": {\"productName\": \"Haldiram-Rasgulla\", \"exp_date\": \"01-11-2021\", \"category\": \"Sweets\", \"price\": 100, \"quantity\": 80}, \"11602285\": {\"productName\": \"Vicks-VapourRub\", \"exp_date\": \"15-12-2021\", \"category\": \"Medicines\", \"price\": 40, \"quantity\": 70}, \"11602286\": {\"productName\": \"Everfresh-Eye-Drops\", \"exp_date\": \"01-01-2022\", \"category\": \"Medicines\", \"price\": 50, \"quantity\": 60}, \"11602287\": {\"productName\": \"Grillintus-Cough-Syrup\", \"exp_date\": \"14-02-2022\", \"category\": \"Medicines\", \"price\": 140, \"quantity\": 120}, \"11602288\": {\"productName\": \"Crocin-Paracetomol-L550\", \"exp_date\": \"29-01-2022\", \"category\": \"Medicines\", \"price\": 50, \"quantity\": 100}, \"11602289\": {\"productName\": \"Vicks-Pain-Killer\", \"exp_date\": \"15-01-2022\", \"category\": \"Medicines\", \"price\": 30, \"quantity\": 140}, \"11602290\": {\"productName\": \"Fortune-Sunflower-Oil\", \"exp_date\": \"05-05-2022\", \"category\": \"Oil\", \"price\": 130, \"quantity\": 100}, \"11602291\": {\"productName\": \"Svity-Kolam-RiceBran-Oil\", \"exp_date\": \"15-04-2022\", \"category\": \"Oil\", \"price\": 110, \"quantity\": 85}, \"11602292\": {\"productName\": \"Amul-Ghee\", \"exp_date\": \"25-07-2022\", \"category\": \"Dairy-Items\", \"price\": 100, \"quantity\": 80}, \"11602293\": {\"productName\": \"Gowardhan-Ghee\", \"exp_date\": \"15-06-2022\", \"category\": \"Dairy-Items\", \"price\": 80, \"quantity\": 95}, \"11602294\": {\"productName\": \"Patanjali-Ghee\", \"exp_date\": \"28-05-2022\", \"category\": \"Dairy-Items\", \"price\": 90, \"quantity\": 105}, \"11602295\": {\"productName\": \"Patanjali-Chips\", \"exp_date\": \"19-12-2021\", \"category\": \"Chips\", \"price\": 15, \"quantity\": 115}, \"11602296\": {\"productName\": \"Patanjali-Shev\", \"exp_date\": \"28-11-2021\", \"category\": \"Snacks\", \"price\": 15, \"quantity\": 120}, \"11602297\": {\"productName\": \"Patanjali-MilkCream-Biscuit\", \"exp_date\": \"27-12-2021\", \"category\": \"Biscuits\", \"price\": 20, \"quantity\": 80}, \"11602298\": {\"productName\": \"TATA Agni-Gold \", \"exp_date\": \"20-12-2021\", \"category\": \"Tea-Powder\", \"price\": 150, \"quantity\": 100}, \"11602299\": {\"productName\": \"Society Tea-Powder\", \"exp_date\": \"29-11-2021\", \"category\": \"Tea-Powder\", \"price\": 130, \"quantity\": 75}, \"11602300\": {\"productName\": \"Wah-Taj\", \"exp_date\": \"18-12-2021\", \"category\": \"Tea-Powder\", \"price\": 170, \"quantity\": 110}, \"11602301\": {\"productName\": \"Cadbury-5Star\", \"exp_date\": \"23-12-2021\", \"category\": \"Chocolates\", \"price\": 10, \"quantity\": 110}, \"11602302\": {\"productName\": \"Munch\", \"exp_date\": \"28-12-2021\", \"category\": \"Chocolates\", \"price\": 10, \"quantity\": 80}, \"11602303\": {\"productName\": \"Cadbury-Perk\", \"exp_date\": \"08-12-2021\", \"category\": \"Chocolates\", \"price\": 10, \"quantity\": 90}, \"11602304\": {\"productName\": \"Nestle-Milkybar\", \"exp_date\": \"16-12-2021\", \"category\": \"Chocolates\", \"price\": 15, \"quantity\": 120}, \"11602305\": {\"productName\": \"Cadbury-Fuse\", \"exp_date\": \"24-12-2021\", \"category\": \"Chocolates\", \"price\": 40, \"quantity\": 60}}'"
            ]
          },
          "metadata": {},
          "execution_count": 6
        }
      ]
    },
    {
      "cell_type": "code",
      "metadata": {
        "colab": {
          "base_uri": "https://localhost:8080/"
        },
        "id": "4gf1WCRLaXfa",
        "outputId": "798ce939-844b-42f0-a653-8aa096899df4"
      },
      "source": [
        "record"
      ],
      "execution_count": 7,
      "outputs": [
        {
          "output_type": "execute_result",
          "data": {
            "text/plain": [
              "{11602259: {'category': 'Chocolates',\n",
              "  'exp_date': '07-09-2022',\n",
              "  'price': 10,\n",
              "  'productName': 'Cadbury Dairy Milk',\n",
              "  'quantity': 100},\n",
              " 11602260: {'category': 'Biscuits',\n",
              "  'exp_date': '01-01-2022',\n",
              "  'price': 20,\n",
              "  'productName': 'Parle-G',\n",
              "  'quantity': 70},\n",
              " 11602261: {'category': 'Snacks',\n",
              "  'exp_date': '25-12-2021',\n",
              "  'price': 10,\n",
              "  'productName': 'Haldiram-Khatta-Meetha',\n",
              "  'quantity': 80},\n",
              " 11602262: {'category': 'Snacks',\n",
              "  'exp_date': '12-12-2021',\n",
              "  'price': 10,\n",
              "  'productName': 'Haldiram-Phalari-Chiwda',\n",
              "  'quantity': 50},\n",
              " 11602263: {'category': 'Snacks',\n",
              "  'exp_date': '05-11-2021',\n",
              "  'price': 10,\n",
              "  'productName': 'Haldiram-Salted-Peanuts',\n",
              "  'quantity': 60},\n",
              " 11602264: {'category': 'Snacks',\n",
              "  'exp_date': '01-11-2021',\n",
              "  'price': 10,\n",
              "  'productName': 'Haldiram-Aloo-Bhujia',\n",
              "  'quantity': 70},\n",
              " 11602265: {'category': 'Snacks',\n",
              "  'exp_date': '28-10-2021',\n",
              "  'price': 10,\n",
              "  'productName': 'Haldiram-Bhujia-Shev',\n",
              "  'quantity': 80},\n",
              " 11602266: {'category': 'Biscuits',\n",
              "  'exp_date': '25-10-2021',\n",
              "  'price': 20,\n",
              "  'productName': 'Parle-Monaco',\n",
              "  'quantity': 50},\n",
              " 11602267: {'category': 'Chips',\n",
              "  'exp_date': '15-11-2021',\n",
              "  'price': 20,\n",
              "  'productName': 'Lays-Chips',\n",
              "  'quantity': 70},\n",
              " 11602268: {'category': 'Chips',\n",
              "  'exp_date': '29-11-2021',\n",
              "  'price': 15,\n",
              "  'productName': 'Diamond-Chips',\n",
              "  'quantity': 75},\n",
              " 11602269: {'category': 'Snacks',\n",
              "  'exp_date': '18-11-2021',\n",
              "  'price': 15,\n",
              "  'productName': 'Kurkure',\n",
              "  'qunatity': 95},\n",
              " 11602270: {'category': 'Biscuits',\n",
              "  'exp_date': '20-12-2021',\n",
              "  'price': 10,\n",
              "  'productName': 'Oreo',\n",
              "  'quantity': 80},\n",
              " 11602271: {'category': 'Sweets',\n",
              "  'exp_date': '15-10-2021',\n",
              "  'price': 50,\n",
              "  'productName': 'Haldiram-Son-Papadi',\n",
              "  'quantity': 100},\n",
              " 11602272: {'category': 'Sweets',\n",
              "  'exp_date': '26-10-2021',\n",
              "  'price': 90,\n",
              "  'productName': 'Haldiram-Gulab-Jamun',\n",
              "  'quantity': 100},\n",
              " 11602273: {'category': 'Sweets',\n",
              "  'exp_date': '01-11-2021',\n",
              "  'price': 100,\n",
              "  'productName': 'Haldiram-Rasgulla',\n",
              "  'quantity': 80},\n",
              " 11602285: {'category': 'Medicines',\n",
              "  'exp_date': '15-12-2021',\n",
              "  'price': 40,\n",
              "  'productName': 'Vicks-VapourRub',\n",
              "  'quantity': 70},\n",
              " 11602286: {'category': 'Medicines',\n",
              "  'exp_date': '01-01-2022',\n",
              "  'price': 50,\n",
              "  'productName': 'Everfresh-Eye-Drops',\n",
              "  'quantity': 60},\n",
              " 11602287: {'category': 'Medicines',\n",
              "  'exp_date': '14-02-2022',\n",
              "  'price': 140,\n",
              "  'productName': 'Grillintus-Cough-Syrup',\n",
              "  'quantity': 120},\n",
              " 11602288: {'category': 'Medicines',\n",
              "  'exp_date': '29-01-2022',\n",
              "  'price': 50,\n",
              "  'productName': 'Crocin-Paracetomol-L550',\n",
              "  'quantity': 100},\n",
              " 11602289: {'category': 'Medicines',\n",
              "  'exp_date': '15-01-2022',\n",
              "  'price': 30,\n",
              "  'productName': 'Vicks-Pain-Killer',\n",
              "  'quantity': 140},\n",
              " 11602290: {'category': 'Oil',\n",
              "  'exp_date': '05-05-2022',\n",
              "  'price': 130,\n",
              "  'productName': 'Fortune-Sunflower-Oil',\n",
              "  'quantity': 100},\n",
              " 11602291: {'category': 'Oil',\n",
              "  'exp_date': '15-04-2022',\n",
              "  'price': 110,\n",
              "  'productName': 'Svity-Kolam-RiceBran-Oil',\n",
              "  'quantity': 85},\n",
              " 11602292: {'category': 'Dairy-Items',\n",
              "  'exp_date': '25-07-2022',\n",
              "  'price': 100,\n",
              "  'productName': 'Amul-Ghee',\n",
              "  'quantity': 80},\n",
              " 11602293: {'category': 'Dairy-Items',\n",
              "  'exp_date': '15-06-2022',\n",
              "  'price': 80,\n",
              "  'productName': 'Gowardhan-Ghee',\n",
              "  'quantity': 95},\n",
              " 11602294: {'category': 'Dairy-Items',\n",
              "  'exp_date': '28-05-2022',\n",
              "  'price': 90,\n",
              "  'productName': 'Patanjali-Ghee',\n",
              "  'quantity': 105},\n",
              " 11602295: {'category': 'Chips',\n",
              "  'exp_date': '19-12-2021',\n",
              "  'price': 15,\n",
              "  'productName': 'Patanjali-Chips',\n",
              "  'quantity': 115},\n",
              " 11602296: {'category': 'Snacks',\n",
              "  'exp_date': '28-11-2021',\n",
              "  'price': 15,\n",
              "  'productName': 'Patanjali-Shev',\n",
              "  'quantity': 120},\n",
              " 11602297: {'category': 'Biscuits',\n",
              "  'exp_date': '27-12-2021',\n",
              "  'price': 20,\n",
              "  'productName': 'Patanjali-MilkCream-Biscuit',\n",
              "  'quantity': 80},\n",
              " 11602298: {'category': 'Tea-Powder',\n",
              "  'exp_date': '20-12-2021',\n",
              "  'price': 150,\n",
              "  'productName': 'TATA Agni-Gold ',\n",
              "  'quantity': 100},\n",
              " 11602299: {'category': 'Tea-Powder',\n",
              "  'exp_date': '29-11-2021',\n",
              "  'price': 130,\n",
              "  'productName': 'Society Tea-Powder',\n",
              "  'quantity': 75},\n",
              " 11602300: {'category': 'Tea-Powder',\n",
              "  'exp_date': '18-12-2021',\n",
              "  'price': 170,\n",
              "  'productName': 'Wah-Taj',\n",
              "  'quantity': 110},\n",
              " 11602301: {'category': 'Chocolates',\n",
              "  'exp_date': '23-12-2021',\n",
              "  'price': 10,\n",
              "  'productName': 'Cadbury-5Star',\n",
              "  'quantity': 110},\n",
              " 11602302: {'category': 'Chocolates',\n",
              "  'exp_date': '28-12-2021',\n",
              "  'price': 10,\n",
              "  'productName': 'Munch',\n",
              "  'quantity': 80},\n",
              " 11602303: {'category': 'Chocolates',\n",
              "  'exp_date': '08-12-2021',\n",
              "  'price': 10,\n",
              "  'productName': 'Cadbury-Perk',\n",
              "  'quantity': 90},\n",
              " 11602304: {'category': 'Chocolates',\n",
              "  'exp_date': '16-12-2021',\n",
              "  'price': 15,\n",
              "  'productName': 'Nestle-Milkybar',\n",
              "  'quantity': 120},\n",
              " 11602305: {'category': 'Chocolates',\n",
              "  'exp_date': '24-12-2021',\n",
              "  'price': 40,\n",
              "  'productName': 'Cadbury-Fuse',\n",
              "  'quantity': 60}}"
            ]
          },
          "metadata": {},
          "execution_count": 7
        }
      ]
    },
    {
      "cell_type": "code",
      "metadata": {
        "colab": {
          "base_uri": "https://localhost:8080/"
        },
        "id": "3lSt3ACGaYQ_",
        "outputId": "bf7b5062-c293-40d9-cf96-381a8ee74cd0"
      },
      "source": [
        "type(js)"
      ],
      "execution_count": 8,
      "outputs": [
        {
          "output_type": "execute_result",
          "data": {
            "text/plain": [
              "str"
            ]
          },
          "metadata": {},
          "execution_count": 8
        }
      ]
    },
    {
      "cell_type": "code",
      "metadata": {
        "colab": {
          "base_uri": "https://localhost:8080/"
        },
        "id": "4s1t69dtacak",
        "outputId": "6f0c0381-eccc-41b1-90b5-5f9fe269f4fe"
      },
      "source": [
        "type(record)"
      ],
      "execution_count": 9,
      "outputs": [
        {
          "output_type": "execute_result",
          "data": {
            "text/plain": [
              "dict"
            ]
          },
          "metadata": {},
          "execution_count": 9
        }
      ]
    },
    {
      "cell_type": "code",
      "metadata": {
        "id": "1zShzE_uad9A"
      },
      "source": [
        "fd = open(\"record.txt\",'w')\n",
        "\n",
        "fd.write(js)\n",
        "\n",
        "fd.close()"
      ],
      "execution_count": 10,
      "outputs": []
    },
    {
      "cell_type": "code",
      "metadata": {
        "id": "XPO-SFEMa6e9"
      },
      "source": [
        "fd = open(\"record.txt\",'r')\n",
        "\n",
        "txt = fd.read()\n",
        "\n",
        "fd.close()"
      ],
      "execution_count": 11,
      "outputs": []
    },
    {
      "cell_type": "code",
      "metadata": {
        "colab": {
          "base_uri": "https://localhost:8080/",
          "height": 137
        },
        "id": "beJ863Wwo9RX",
        "outputId": "383e4630-024d-41c7-f804-342250fb48d4"
      },
      "source": [
        "txt"
      ],
      "execution_count": 12,
      "outputs": [
        {
          "output_type": "execute_result",
          "data": {
            "application/vnd.google.colaboratory.intrinsic+json": {
              "type": "string"
            },
            "text/plain": [
              "'{\"11602259\": {\"productName\": \"Cadbury Dairy Milk\", \"exp_date\": \"07-09-2022\", \"category\": \"Chocolates\", \"price\": 10, \"quantity\": 100}, \"11602260\": {\"productName\": \"Parle-G\", \"exp_date\": \"01-01-2022\", \"category\": \"Biscuits\", \"price\": 20, \"quantity\": 70}, \"11602261\": {\"productName\": \"Haldiram-Khatta-Meetha\", \"exp_date\": \"25-12-2021\", \"category\": \"Snacks\", \"price\": 10, \"quantity\": 80}, \"11602262\": {\"productName\": \"Haldiram-Phalari-Chiwda\", \"exp_date\": \"12-12-2021\", \"category\": \"Snacks\", \"price\": 10, \"quantity\": 50}, \"11602263\": {\"productName\": \"Haldiram-Salted-Peanuts\", \"exp_date\": \"05-11-2021\", \"category\": \"Snacks\", \"price\": 10, \"quantity\": 60}, \"11602264\": {\"productName\": \"Haldiram-Aloo-Bhujia\", \"exp_date\": \"01-11-2021\", \"category\": \"Snacks\", \"price\": 10, \"quantity\": 70}, \"11602265\": {\"productName\": \"Haldiram-Bhujia-Shev\", \"exp_date\": \"28-10-2021\", \"category\": \"Snacks\", \"price\": 10, \"quantity\": 80}, \"11602266\": {\"productName\": \"Parle-Monaco\", \"exp_date\": \"25-10-2021\", \"category\": \"Biscuits\", \"price\": 20, \"quantity\": 50}, \"11602267\": {\"productName\": \"Lays-Chips\", \"exp_date\": \"15-11-2021\", \"category\": \"Chips\", \"price\": 20, \"quantity\": 70}, \"11602268\": {\"productName\": \"Diamond-Chips\", \"exp_date\": \"29-11-2021\", \"category\": \"Chips\", \"price\": 15, \"quantity\": 75}, \"11602269\": {\"productName\": \"Kurkure\", \"exp_date\": \"18-11-2021\", \"category\": \"Snacks\", \"price\": 15, \"qunatity\": 95}, \"11602270\": {\"productName\": \"Oreo\", \"exp_date\": \"20-12-2021\", \"category\": \"Biscuits\", \"price\": 10, \"quantity\": 80}, \"11602271\": {\"productName\": \"Haldiram-Son-Papadi\", \"exp_date\": \"15-10-2021\", \"category\": \"Sweets\", \"price\": 50, \"quantity\": 100}, \"11602272\": {\"productName\": \"Haldiram-Gulab-Jamun\", \"exp_date\": \"26-10-2021\", \"category\": \"Sweets\", \"price\": 90, \"quantity\": 100}, \"11602273\": {\"productName\": \"Haldiram-Rasgulla\", \"exp_date\": \"01-11-2021\", \"category\": \"Sweets\", \"price\": 100, \"quantity\": 80}, \"11602285\": {\"productName\": \"Vicks-VapourRub\", \"exp_date\": \"15-12-2021\", \"category\": \"Medicines\", \"price\": 40, \"quantity\": 70}, \"11602286\": {\"productName\": \"Everfresh-Eye-Drops\", \"exp_date\": \"01-01-2022\", \"category\": \"Medicines\", \"price\": 50, \"quantity\": 60}, \"11602287\": {\"productName\": \"Grillintus-Cough-Syrup\", \"exp_date\": \"14-02-2022\", \"category\": \"Medicines\", \"price\": 140, \"quantity\": 120}, \"11602288\": {\"productName\": \"Crocin-Paracetomol-L550\", \"exp_date\": \"29-01-2022\", \"category\": \"Medicines\", \"price\": 50, \"quantity\": 100}, \"11602289\": {\"productName\": \"Vicks-Pain-Killer\", \"exp_date\": \"15-01-2022\", \"category\": \"Medicines\", \"price\": 30, \"quantity\": 140}, \"11602290\": {\"productName\": \"Fortune-Sunflower-Oil\", \"exp_date\": \"05-05-2022\", \"category\": \"Oil\", \"price\": 130, \"quantity\": 100}, \"11602291\": {\"productName\": \"Svity-Kolam-RiceBran-Oil\", \"exp_date\": \"15-04-2022\", \"category\": \"Oil\", \"price\": 110, \"quantity\": 85}, \"11602292\": {\"productName\": \"Amul-Ghee\", \"exp_date\": \"25-07-2022\", \"category\": \"Dairy-Items\", \"price\": 100, \"quantity\": 80}, \"11602293\": {\"productName\": \"Gowardhan-Ghee\", \"exp_date\": \"15-06-2022\", \"category\": \"Dairy-Items\", \"price\": 80, \"quantity\": 95}, \"11602294\": {\"productName\": \"Patanjali-Ghee\", \"exp_date\": \"28-05-2022\", \"category\": \"Dairy-Items\", \"price\": 90, \"quantity\": 105}, \"11602295\": {\"productName\": \"Patanjali-Chips\", \"exp_date\": \"19-12-2021\", \"category\": \"Chips\", \"price\": 15, \"quantity\": 115}, \"11602296\": {\"productName\": \"Patanjali-Shev\", \"exp_date\": \"28-11-2021\", \"category\": \"Snacks\", \"price\": 15, \"quantity\": 120}, \"11602297\": {\"productName\": \"Patanjali-MilkCream-Biscuit\", \"exp_date\": \"27-12-2021\", \"category\": \"Biscuits\", \"price\": 20, \"quantity\": 80}, \"11602298\": {\"productName\": \"TATA Agni-Gold \", \"exp_date\": \"20-12-2021\", \"category\": \"Tea-Powder\", \"price\": 150, \"quantity\": 100}, \"11602299\": {\"productName\": \"Society Tea-Powder\", \"exp_date\": \"29-11-2021\", \"category\": \"Tea-Powder\", \"price\": 130, \"quantity\": 75}, \"11602300\": {\"productName\": \"Wah-Taj\", \"exp_date\": \"18-12-2021\", \"category\": \"Tea-Powder\", \"price\": 170, \"quantity\": 110}, \"11602301\": {\"productName\": \"Cadbury-5Star\", \"exp_date\": \"23-12-2021\", \"category\": \"Chocolates\", \"price\": 10, \"quantity\": 110}, \"11602302\": {\"productName\": \"Munch\", \"exp_date\": \"28-12-2021\", \"category\": \"Chocolates\", \"price\": 10, \"quantity\": 80}, \"11602303\": {\"productName\": \"Cadbury-Perk\", \"exp_date\": \"08-12-2021\", \"category\": \"Chocolates\", \"price\": 10, \"quantity\": 90}, \"11602304\": {\"productName\": \"Nestle-Milkybar\", \"exp_date\": \"16-12-2021\", \"category\": \"Chocolates\", \"price\": 15, \"quantity\": 120}, \"11602305\": {\"productName\": \"Cadbury-Fuse\", \"exp_date\": \"24-12-2021\", \"category\": \"Chocolates\", \"price\": 40, \"quantity\": 60}}'"
            ]
          },
          "metadata": {},
          "execution_count": 12
        }
      ]
    },
    {
      "cell_type": "code",
      "metadata": {
        "id": "iHg0qnn7bBWQ"
      },
      "source": [
        "record = json.loads(txt)"
      ],
      "execution_count": 13,
      "outputs": []
    },
    {
      "cell_type": "code",
      "metadata": {
        "colab": {
          "base_uri": "https://localhost:8080/"
        },
        "id": "T1wd9FbqbDWv",
        "outputId": "6f259bb9-0526-4627-b87a-c99672d2dc91"
      },
      "source": [
        "record"
      ],
      "execution_count": 14,
      "outputs": [
        {
          "output_type": "execute_result",
          "data": {
            "text/plain": [
              "{'11602259': {'category': 'Chocolates',\n",
              "  'exp_date': '07-09-2022',\n",
              "  'price': 10,\n",
              "  'productName': 'Cadbury Dairy Milk',\n",
              "  'quantity': 100},\n",
              " '11602260': {'category': 'Biscuits',\n",
              "  'exp_date': '01-01-2022',\n",
              "  'price': 20,\n",
              "  'productName': 'Parle-G',\n",
              "  'quantity': 70},\n",
              " '11602261': {'category': 'Snacks',\n",
              "  'exp_date': '25-12-2021',\n",
              "  'price': 10,\n",
              "  'productName': 'Haldiram-Khatta-Meetha',\n",
              "  'quantity': 80},\n",
              " '11602262': {'category': 'Snacks',\n",
              "  'exp_date': '12-12-2021',\n",
              "  'price': 10,\n",
              "  'productName': 'Haldiram-Phalari-Chiwda',\n",
              "  'quantity': 50},\n",
              " '11602263': {'category': 'Snacks',\n",
              "  'exp_date': '05-11-2021',\n",
              "  'price': 10,\n",
              "  'productName': 'Haldiram-Salted-Peanuts',\n",
              "  'quantity': 60},\n",
              " '11602264': {'category': 'Snacks',\n",
              "  'exp_date': '01-11-2021',\n",
              "  'price': 10,\n",
              "  'productName': 'Haldiram-Aloo-Bhujia',\n",
              "  'quantity': 70},\n",
              " '11602265': {'category': 'Snacks',\n",
              "  'exp_date': '28-10-2021',\n",
              "  'price': 10,\n",
              "  'productName': 'Haldiram-Bhujia-Shev',\n",
              "  'quantity': 80},\n",
              " '11602266': {'category': 'Biscuits',\n",
              "  'exp_date': '25-10-2021',\n",
              "  'price': 20,\n",
              "  'productName': 'Parle-Monaco',\n",
              "  'quantity': 50},\n",
              " '11602267': {'category': 'Chips',\n",
              "  'exp_date': '15-11-2021',\n",
              "  'price': 20,\n",
              "  'productName': 'Lays-Chips',\n",
              "  'quantity': 70},\n",
              " '11602268': {'category': 'Chips',\n",
              "  'exp_date': '29-11-2021',\n",
              "  'price': 15,\n",
              "  'productName': 'Diamond-Chips',\n",
              "  'quantity': 75},\n",
              " '11602269': {'category': 'Snacks',\n",
              "  'exp_date': '18-11-2021',\n",
              "  'price': 15,\n",
              "  'productName': 'Kurkure',\n",
              "  'qunatity': 95},\n",
              " '11602270': {'category': 'Biscuits',\n",
              "  'exp_date': '20-12-2021',\n",
              "  'price': 10,\n",
              "  'productName': 'Oreo',\n",
              "  'quantity': 80},\n",
              " '11602271': {'category': 'Sweets',\n",
              "  'exp_date': '15-10-2021',\n",
              "  'price': 50,\n",
              "  'productName': 'Haldiram-Son-Papadi',\n",
              "  'quantity': 100},\n",
              " '11602272': {'category': 'Sweets',\n",
              "  'exp_date': '26-10-2021',\n",
              "  'price': 90,\n",
              "  'productName': 'Haldiram-Gulab-Jamun',\n",
              "  'quantity': 100},\n",
              " '11602273': {'category': 'Sweets',\n",
              "  'exp_date': '01-11-2021',\n",
              "  'price': 100,\n",
              "  'productName': 'Haldiram-Rasgulla',\n",
              "  'quantity': 80},\n",
              " '11602285': {'category': 'Medicines',\n",
              "  'exp_date': '15-12-2021',\n",
              "  'price': 40,\n",
              "  'productName': 'Vicks-VapourRub',\n",
              "  'quantity': 70},\n",
              " '11602286': {'category': 'Medicines',\n",
              "  'exp_date': '01-01-2022',\n",
              "  'price': 50,\n",
              "  'productName': 'Everfresh-Eye-Drops',\n",
              "  'quantity': 60},\n",
              " '11602287': {'category': 'Medicines',\n",
              "  'exp_date': '14-02-2022',\n",
              "  'price': 140,\n",
              "  'productName': 'Grillintus-Cough-Syrup',\n",
              "  'quantity': 120},\n",
              " '11602288': {'category': 'Medicines',\n",
              "  'exp_date': '29-01-2022',\n",
              "  'price': 50,\n",
              "  'productName': 'Crocin-Paracetomol-L550',\n",
              "  'quantity': 100},\n",
              " '11602289': {'category': 'Medicines',\n",
              "  'exp_date': '15-01-2022',\n",
              "  'price': 30,\n",
              "  'productName': 'Vicks-Pain-Killer',\n",
              "  'quantity': 140},\n",
              " '11602290': {'category': 'Oil',\n",
              "  'exp_date': '05-05-2022',\n",
              "  'price': 130,\n",
              "  'productName': 'Fortune-Sunflower-Oil',\n",
              "  'quantity': 100},\n",
              " '11602291': {'category': 'Oil',\n",
              "  'exp_date': '15-04-2022',\n",
              "  'price': 110,\n",
              "  'productName': 'Svity-Kolam-RiceBran-Oil',\n",
              "  'quantity': 85},\n",
              " '11602292': {'category': 'Dairy-Items',\n",
              "  'exp_date': '25-07-2022',\n",
              "  'price': 100,\n",
              "  'productName': 'Amul-Ghee',\n",
              "  'quantity': 80},\n",
              " '11602293': {'category': 'Dairy-Items',\n",
              "  'exp_date': '15-06-2022',\n",
              "  'price': 80,\n",
              "  'productName': 'Gowardhan-Ghee',\n",
              "  'quantity': 95},\n",
              " '11602294': {'category': 'Dairy-Items',\n",
              "  'exp_date': '28-05-2022',\n",
              "  'price': 90,\n",
              "  'productName': 'Patanjali-Ghee',\n",
              "  'quantity': 105},\n",
              " '11602295': {'category': 'Chips',\n",
              "  'exp_date': '19-12-2021',\n",
              "  'price': 15,\n",
              "  'productName': 'Patanjali-Chips',\n",
              "  'quantity': 115},\n",
              " '11602296': {'category': 'Snacks',\n",
              "  'exp_date': '28-11-2021',\n",
              "  'price': 15,\n",
              "  'productName': 'Patanjali-Shev',\n",
              "  'quantity': 120},\n",
              " '11602297': {'category': 'Biscuits',\n",
              "  'exp_date': '27-12-2021',\n",
              "  'price': 20,\n",
              "  'productName': 'Patanjali-MilkCream-Biscuit',\n",
              "  'quantity': 80},\n",
              " '11602298': {'category': 'Tea-Powder',\n",
              "  'exp_date': '20-12-2021',\n",
              "  'price': 150,\n",
              "  'productName': 'TATA Agni-Gold ',\n",
              "  'quantity': 100},\n",
              " '11602299': {'category': 'Tea-Powder',\n",
              "  'exp_date': '29-11-2021',\n",
              "  'price': 130,\n",
              "  'productName': 'Society Tea-Powder',\n",
              "  'quantity': 75},\n",
              " '11602300': {'category': 'Tea-Powder',\n",
              "  'exp_date': '18-12-2021',\n",
              "  'price': 170,\n",
              "  'productName': 'Wah-Taj',\n",
              "  'quantity': 110},\n",
              " '11602301': {'category': 'Chocolates',\n",
              "  'exp_date': '23-12-2021',\n",
              "  'price': 10,\n",
              "  'productName': 'Cadbury-5Star',\n",
              "  'quantity': 110},\n",
              " '11602302': {'category': 'Chocolates',\n",
              "  'exp_date': '28-12-2021',\n",
              "  'price': 10,\n",
              "  'productName': 'Munch',\n",
              "  'quantity': 80},\n",
              " '11602303': {'category': 'Chocolates',\n",
              "  'exp_date': '08-12-2021',\n",
              "  'price': 10,\n",
              "  'productName': 'Cadbury-Perk',\n",
              "  'quantity': 90},\n",
              " '11602304': {'category': 'Chocolates',\n",
              "  'exp_date': '16-12-2021',\n",
              "  'price': 15,\n",
              "  'productName': 'Nestle-Milkybar',\n",
              "  'quantity': 120},\n",
              " '11602305': {'category': 'Chocolates',\n",
              "  'exp_date': '24-12-2021',\n",
              "  'price': 40,\n",
              "  'productName': 'Cadbury-Fuse',\n",
              "  'quantity': 60}}"
            ]
          },
          "metadata": {},
          "execution_count": 14
        }
      ]
    },
    {
      "cell_type": "code",
      "metadata": {
        "colab": {
          "base_uri": "https://localhost:8080/"
        },
        "id": "LYPqrTgtbPWL",
        "outputId": "08c321c2-37da-450a-c0ad-f205c78eb418"
      },
      "source": [
        "record['11602259']"
      ],
      "execution_count": 15,
      "outputs": [
        {
          "output_type": "execute_result",
          "data": {
            "text/plain": [
              "{'category': 'Chocolates',\n",
              " 'exp_date': '07-09-2022',\n",
              " 'price': 10,\n",
              " 'productName': 'Cadbury Dairy Milk',\n",
              " 'quantity': 100}"
            ]
          },
          "metadata": {},
          "execution_count": 15
        }
      ]
    },
    {
      "cell_type": "code",
      "metadata": {
        "id": "vhH1wMYDbU16"
      },
      "source": [
        "import time"
      ],
      "execution_count": 16,
      "outputs": []
    },
    {
      "cell_type": "code",
      "metadata": {
        "colab": {
          "base_uri": "https://localhost:8080/"
        },
        "id": "DNWWrVwMtqAV",
        "outputId": "af25549e-54c9-4486-b57d-23e64f7ceec4"
      },
      "source": [
        "reg = input(\"Enter the prod_id of the product which a consumer want to purchase:\")\n",
        "qua = int(input(\"Enter the quantity of the product purchased:\"))\n",
        "if(qua<=record[reg]['quantity']):\n",
        "  print(\"Total Available Quantity of purchased product(Before Buying):\",record[reg]['quantity'])\n",
        "  record[reg]['quantity']=record[reg]['quantity']-qua\n",
        "  print(\"Total Available Quantity of purchased product(After Buying):\",record[reg]['quantity'])\n",
        "  print(\"Time of purchase:\",time.ctime())\n",
        "else:\n",
        "  print(\"Product not available in desired quantity\")"
      ],
      "execution_count": 17,
      "outputs": [
        {
          "output_type": "stream",
          "name": "stdout",
          "text": [
            "Enter the prod_id of the product which a consumer want to purchase:11602305\n",
            "Enter the quantity of the product purchased:5\n",
            "Total Available Quantity of purchased product(Before Buying): 60\n",
            "Total Available Quantity of purchased product(After Buying): 55\n",
            "Time of purchase: Tue Sep  7 11:59:30 2021\n"
          ]
        }
      ]
    }
  ]
}
