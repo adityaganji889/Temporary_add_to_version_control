{
  "nbformat": 4,
  "nbformat_minor": 0,
  "metadata": {
    "colab": {
      "name": "JSON_based_Inventory_Management.ipynb",
      "provenance": [],
      "include_colab_link": true
    },
    "kernelspec": {
      "name": "python3",
      "display_name": "Python 3"
    },
    "language_info": {
      "name": "python"
    }
  },
  "cells": [
    {
      "cell_type": "markdown",
      "metadata": {
        "id": "view-in-github",
        "colab_type": "text"
      },
      "source": [
        "<a href=\"https://colab.research.google.com/github/adityaganji889/Temporary_add_to_version_control/blob/main/JSON_based_Inventory_Management.ipynb\" target=\"_parent\"><img src=\"https://colab.research.google.com/assets/colab-badge.svg\" alt=\"Open In Colab\"/></a>"
      ]
    },
    {
      "cell_type": "code",
      "metadata": {
        "id": "SimCWmcWi0s5"
      },
      "source": [
        "record = { 11602259 : {\"name\": \"Ashish Jangra\" , \"Pno\": 1234, \"cgpa\" : 7.5},\n",
        "           11602260 : {\"name\": \"Gurpreet Singh\", \"Pno\": 5678, \"cgpa\" : 8},\n",
        "           11602261 : {\"name\": \"Rishu Kumar\"   , \"Pno\": 8984, \"cgpa\" : 8.2},\n",
        "          11602262 : {\"name\": \"Rishikesh Kumar\"   , \"Pno\": 8985, \"cgpa\" : 8.6},\n",
        "          11602263 : {\"name\": \"Rishub Jain\"   , \"Pno\": 8986, \"cgpa\" : 7.7},\n",
        "          11602264 : {\"name\": \"Rishu Jaiswal\"   , \"Pno\": 8987, \"cgpa\" : 7.5},\n",
        "          11602265 : {\"name\": \"Raj Kumar\"   , \"Pno\": 8988, \"cgpa\" : 7.4},\n",
        "          11602266 : {\"name\": \"Rajiv Singh\"   , \"Pno\": 8989, \"cgpa\" : 7.2},\n",
        "          11602267 : {\"name\": \"Rajesh Kumar\"   , \"Pno\": 8990, \"cgpa\" : 7.3},\n",
        "          11602268 : {\"name\": \"Raju Kumar\"   , \"Pno\": 8991, \"cgpa\" : 7.5},\n",
        "          11602269 : {\"name\": \"Reet Singh\"   , \"Pno\": 8992, \"cgpa\" : 7.6},\n",
        "          11602270 : {\"name\": \"Roopal Singh\"   , \"Pno\": 8993, \"cgpa\" : 7.8},\n",
        "          11602271 : {\"name\": \"Akhilesh Kumar\"   , \"Pno\": 8994, \"cgpa\" : 7.9},\n",
        "          11602272 : {\"name\": \"Ayan Kumar\"   , \"Pno\": 8995, \"cgpa\" : 7.1},\n",
        "          11602273 : {\"name\": \"Rakshit Sharma\"   , \"Pno\": 8996, \"cgpa\" : 7.3},\n",
        "          11602285 : {\"name\": \"Rishi Kumar\"   , \"Pno\": 8997, \"cgpa\" : 7.4},\n",
        "          11602286 : {\"name\": \"Deep Kumar\"   , \"Pno\": 8998, \"cgpa\" : 7.5},\n",
        "          11602287 : {\"name\": \"Sanjay Kumar\"   , \"Pno\": 8999, \"cgpa\" : 7.6},\n",
        "          11602288 : {\"name\": \"Rahul Kumar\"   , \"Pno\": 8967, \"cgpa\" : 7.7},\n",
        "          11602289 : {\"name\": \"Shourya Kumar\"   , \"Pno\": 8968, \"cgpa\" : 7.9},\n",
        "          11602290 : {\"name\": \"Dhairya Kumar\"   , \"Pno\": 8969, \"cgpa\" : 7.8},\n",
        "          11602291 : {\"name\": \"Deep Saini\"   , \"Pno\": 8970, \"cgpa\" : 7.5},\n",
        "          11602292 : {\"name\": \"Rishu Jain\"   , \"Pno\": 8971, \"cgpa\" : 7.5},\n",
        "          11602293 : {\"name\": \"Harsh Kumar\"   , \"Pno\": 8972, \"cgpa\" : 7.5},\n",
        "          11602294 : {\"name\": \"Harshit Kumar\"   , \"Pno\": 8973, \"cgpa\" : 7.5},\n",
        "          11602295 : {\"name\": \"Harshal Kumar\"   , \"Pno\": 8974, \"cgpa\" : 7.4},\n",
        "          11602296 : {\"name\": \"Shreyas Singh\"   , \"Pno\": 8950, \"cgpa\" : 7.4},\n",
        "          11602297 : {\"name\": \"Yash Singh\"   , \"Pno\": 8951, \"cgpa\" : 7.4},\n",
        "          11602298 : {\"name\": \"Sumukh Kulkarni\"   , \"Pno\": 8952, \"cgpa\" : 7.4},\n",
        "          11602299 : {\"name\": \"Yash Jain\"   , \"Pno\": 8953, \"cgpa\" : 7.4},\n",
        "          11602300 : {\"name\": \"Yash Upodahyay\"   , \"Pno\": 8955, \"cgpa\" : 7.7}}"
      ],
      "execution_count": 2,
      "outputs": []
    },
    {
      "cell_type": "code",
      "metadata": {
        "colab": {
          "base_uri": "https://localhost:8080/"
        },
        "id": "s2VuzKe6Vz0_",
        "outputId": "5874b8f5-505e-465e-e601-8bb92b9dbfc7"
      },
      "source": [
        "reg = 11602260\n",
        "\n",
        "print(record[reg]['name'])\n",
        "print(record[reg]['Pno'])\n",
        "print(record[reg]['cgpa'])"
      ],
      "execution_count": 3,
      "outputs": [
        {
          "output_type": "stream",
          "name": "stdout",
          "text": [
            "Gurpreet Singh\n",
            "5678\n",
            "8\n"
          ]
        }
      ]
    },
    {
      "cell_type": "code",
      "metadata": {
        "id": "oj3OmNRYkfEQ"
      },
      "source": [
        "record[11602260]['Pno'] = 999"
      ],
      "execution_count": 4,
      "outputs": []
    },
    {
      "cell_type": "code",
      "metadata": {
        "colab": {
          "base_uri": "https://localhost:8080/"
        },
        "id": "_fzlbrWvkfRG",
        "outputId": "9df7e7b5-3c59-475c-85a1-02b6eac5386d"
      },
      "source": [
        "record"
      ],
      "execution_count": 5,
      "outputs": [
        {
          "output_type": "execute_result",
          "data": {
            "text/plain": [
              "{11602259: {'Pno': 1234, 'cgpa': 7.5, 'name': 'Ashish Jangra'},\n",
              " 11602260: {'Pno': 999, 'cgpa': 8, 'name': 'Gurpreet Singh'},\n",
              " 11602261: {'Pno': 8984, 'cgpa': 8.2, 'name': 'Rishu Kumar'},\n",
              " 11602262: {'Pno': 8985, 'cgpa': 8.6, 'name': 'Rishikesh Kumar'},\n",
              " 11602263: {'Pno': 8986, 'cgpa': 7.7, 'name': 'Rishub Jain'},\n",
              " 11602264: {'Pno': 8987, 'cgpa': 7.5, 'name': 'Rishu Jaiswal'},\n",
              " 11602265: {'Pno': 8988, 'cgpa': 7.4, 'name': 'Raj Kumar'},\n",
              " 11602266: {'Pno': 8989, 'cgpa': 7.2, 'name': 'Rajiv Singh'},\n",
              " 11602267: {'Pno': 8990, 'cgpa': 7.3, 'name': 'Rajesh Kumar'},\n",
              " 11602268: {'Pno': 8991, 'cgpa': 7.5, 'name': 'Raju Kumar'},\n",
              " 11602269: {'Pno': 8992, 'cgpa': 7.6, 'name': 'Reet Singh'},\n",
              " 11602270: {'Pno': 8993, 'cgpa': 7.8, 'name': 'Roopal Singh'},\n",
              " 11602271: {'Pno': 8994, 'cgpa': 7.9, 'name': 'Akhilesh Kumar'},\n",
              " 11602272: {'Pno': 8995, 'cgpa': 7.1, 'name': 'Ayan Kumar'},\n",
              " 11602273: {'Pno': 8996, 'cgpa': 7.3, 'name': 'Rakshit Sharma'},\n",
              " 11602285: {'Pno': 8997, 'cgpa': 7.4, 'name': 'Rishi Kumar'},\n",
              " 11602286: {'Pno': 8998, 'cgpa': 7.5, 'name': 'Deep Kumar'},\n",
              " 11602287: {'Pno': 8999, 'cgpa': 7.6, 'name': 'Sanjay Kumar'},\n",
              " 11602288: {'Pno': 8967, 'cgpa': 7.7, 'name': 'Rahul Kumar'},\n",
              " 11602289: {'Pno': 8968, 'cgpa': 7.9, 'name': 'Shourya Kumar'},\n",
              " 11602290: {'Pno': 8969, 'cgpa': 7.8, 'name': 'Dhairya Kumar'},\n",
              " 11602291: {'Pno': 8970, 'cgpa': 7.5, 'name': 'Deep Saini'},\n",
              " 11602292: {'Pno': 8971, 'cgpa': 7.5, 'name': 'Rishu Jain'},\n",
              " 11602293: {'Pno': 8972, 'cgpa': 7.5, 'name': 'Harsh Kumar'},\n",
              " 11602294: {'Pno': 8973, 'cgpa': 7.5, 'name': 'Harshit Kumar'},\n",
              " 11602295: {'Pno': 8974, 'cgpa': 7.4, 'name': 'Harshal Kumar'},\n",
              " 11602296: {'Pno': 8950, 'cgpa': 7.4, 'name': 'Shreyas Singh'},\n",
              " 11602297: {'Pno': 8951, 'cgpa': 7.4, 'name': 'Yash Singh'},\n",
              " 11602298: {'Pno': 8952, 'cgpa': 7.4, 'name': 'Sumukh Kulkarni'},\n",
              " 11602299: {'Pno': 8953, 'cgpa': 7.4, 'name': 'Yash Jain'},\n",
              " 11602300: {'Pno': 8955, 'cgpa': 7.7, 'name': 'Yash Upodahyay'}}"
            ]
          },
          "metadata": {},
          "execution_count": 5
        }
      ]
    },
    {
      "cell_type": "code",
      "metadata": {
        "id": "DQbyOIOOYD-Z"
      },
      "source": [
        "record = { 11602259 : {\"name\": \"Ashish Jangra\" , \"Pno\": 1234, \"cgpa\" : 7.5},\n",
        "           11602260 : {\"name\": \"Gurpreet Singh\", \"Pno\": 5678, \"cgpa\" : 8.2},\n",
        "           11602261 : {\"name\": \"Rishu Kumar\"   , \"Pno\": 8984, \"cgpa\" : 7.8}}"
      ],
      "execution_count": 6,
      "outputs": []
    },
    {
      "cell_type": "code",
      "metadata": {
        "id": "GnZedQXvZncV"
      },
      "source": [
        "import json"
      ],
      "execution_count": 7,
      "outputs": []
    },
    {
      "cell_type": "code",
      "metadata": {
        "id": "B50KFXNhZuCH"
      },
      "source": [
        "js = json.dumps(record)"
      ],
      "execution_count": 8,
      "outputs": []
    },
    {
      "cell_type": "code",
      "metadata": {
        "colab": {
          "base_uri": "https://localhost:8080/",
          "height": 52
        },
        "id": "ip8ZcEIRZzEq",
        "outputId": "c2bab630-3bb5-4b99-ebf4-50853ec7b236"
      },
      "source": [
        "js"
      ],
      "execution_count": 9,
      "outputs": [
        {
          "output_type": "execute_result",
          "data": {
            "application/vnd.google.colaboratory.intrinsic+json": {
              "type": "string"
            },
            "text/plain": [
              "'{\"11602259\": {\"name\": \"Ashish Jangra\", \"Pno\": 1234, \"cgpa\": 7.5}, \"11602260\": {\"name\": \"Gurpreet Singh\", \"Pno\": 5678, \"cgpa\": 8.2}, \"11602261\": {\"name\": \"Rishu Kumar\", \"Pno\": 8984, \"cgpa\": 7.8}}'"
            ]
          },
          "metadata": {},
          "execution_count": 9
        }
      ]
    },
    {
      "cell_type": "code",
      "metadata": {
        "colab": {
          "base_uri": "https://localhost:8080/"
        },
        "id": "4gf1WCRLaXfa",
        "outputId": "6135c233-1727-41e3-82e2-844c70f51278"
      },
      "source": [
        "record"
      ],
      "execution_count": 10,
      "outputs": [
        {
          "output_type": "execute_result",
          "data": {
            "text/plain": [
              "{11602259: {'Pno': 1234, 'cgpa': 7.5, 'name': 'Ashish Jangra'},\n",
              " 11602260: {'Pno': 5678, 'cgpa': 8.2, 'name': 'Gurpreet Singh'},\n",
              " 11602261: {'Pno': 8984, 'cgpa': 7.8, 'name': 'Rishu Kumar'}}"
            ]
          },
          "metadata": {},
          "execution_count": 10
        }
      ]
    },
    {
      "cell_type": "code",
      "metadata": {
        "colab": {
          "base_uri": "https://localhost:8080/"
        },
        "id": "3lSt3ACGaYQ_",
        "outputId": "e848574d-8f49-4b6d-fb17-26bfb75f0dfa"
      },
      "source": [
        "type(js)"
      ],
      "execution_count": 11,
      "outputs": [
        {
          "output_type": "execute_result",
          "data": {
            "text/plain": [
              "str"
            ]
          },
          "metadata": {},
          "execution_count": 11
        }
      ]
    },
    {
      "cell_type": "code",
      "metadata": {
        "colab": {
          "base_uri": "https://localhost:8080/"
        },
        "id": "4s1t69dtacak",
        "outputId": "a9adec9b-31fe-43b1-8566-f771fbdf4979"
      },
      "source": [
        "type(record)"
      ],
      "execution_count": 12,
      "outputs": [
        {
          "output_type": "execute_result",
          "data": {
            "text/plain": [
              "dict"
            ]
          },
          "metadata": {},
          "execution_count": 12
        }
      ]
    },
    {
      "cell_type": "code",
      "metadata": {
        "id": "1zShzE_uad9A"
      },
      "source": [
        "fd = open(\"record.txt\",'w')\n",
        "\n",
        "fd.write(js)\n",
        "\n",
        "fd.close()"
      ],
      "execution_count": 13,
      "outputs": []
    },
    {
      "cell_type": "code",
      "metadata": {
        "id": "XPO-SFEMa6e9"
      },
      "source": [
        "fd = open(\"record.txt\",'r')\n",
        "\n",
        "txt = fd.read()\n",
        "\n",
        "fd.close()"
      ],
      "execution_count": 14,
      "outputs": []
    },
    {
      "cell_type": "code",
      "metadata": {
        "colab": {
          "base_uri": "https://localhost:8080/",
          "height": 52
        },
        "id": "beJ863Wwo9RX",
        "outputId": "6b24298f-4790-495b-9f2b-07c3c2bbc584"
      },
      "source": [
        "txt"
      ],
      "execution_count": 15,
      "outputs": [
        {
          "output_type": "execute_result",
          "data": {
            "application/vnd.google.colaboratory.intrinsic+json": {
              "type": "string"
            },
            "text/plain": [
              "'{\"11602259\": {\"name\": \"Ashish Jangra\", \"Pno\": 1234, \"cgpa\": 7.5}, \"11602260\": {\"name\": \"Gurpreet Singh\", \"Pno\": 5678, \"cgpa\": 8.2}, \"11602261\": {\"name\": \"Rishu Kumar\", \"Pno\": 8984, \"cgpa\": 7.8}}'"
            ]
          },
          "metadata": {},
          "execution_count": 15
        }
      ]
    },
    {
      "cell_type": "code",
      "metadata": {
        "id": "iHg0qnn7bBWQ"
      },
      "source": [
        "record = json.loads(txt)"
      ],
      "execution_count": 16,
      "outputs": []
    },
    {
      "cell_type": "code",
      "metadata": {
        "colab": {
          "base_uri": "https://localhost:8080/"
        },
        "id": "T1wd9FbqbDWv",
        "outputId": "bba1cf0c-5f45-401d-8dbf-c65644fc99d4"
      },
      "source": [
        "record"
      ],
      "execution_count": 17,
      "outputs": [
        {
          "output_type": "execute_result",
          "data": {
            "text/plain": [
              "{'11602259': {'Pno': 1234, 'cgpa': 7.5, 'name': 'Ashish Jangra'},\n",
              " '11602260': {'Pno': 5678, 'cgpa': 8.2, 'name': 'Gurpreet Singh'},\n",
              " '11602261': {'Pno': 8984, 'cgpa': 7.8, 'name': 'Rishu Kumar'}}"
            ]
          },
          "metadata": {},
          "execution_count": 17
        }
      ]
    },
    {
      "cell_type": "code",
      "metadata": {
        "colab": {
          "base_uri": "https://localhost:8080/"
        },
        "id": "LYPqrTgtbPWL",
        "outputId": "3df39800-80e0-48b7-add4-a00c5c6e7ae0"
      },
      "source": [
        "record['11602259']"
      ],
      "execution_count": 18,
      "outputs": [
        {
          "output_type": "execute_result",
          "data": {
            "text/plain": [
              "{'Pno': 1234, 'cgpa': 7.5, 'name': 'Ashish Jangra'}"
            ]
          },
          "metadata": {},
          "execution_count": 18
        }
      ]
    },
    {
      "cell_type": "code",
      "metadata": {
        "id": "vhH1wMYDbU16"
      },
      "source": [
        "import time"
      ],
      "execution_count": 19,
      "outputs": []
    },
    {
      "cell_type": "code",
      "metadata": {
        "colab": {
          "base_uri": "https://localhost:8080/",
          "height": 35
        },
        "id": "Rmr2z1AKcAum",
        "outputId": "d440e367-1043-4649-d248-1add21caa4b7"
      },
      "source": [
        "time.ctime()"
      ],
      "execution_count": 20,
      "outputs": [
        {
          "output_type": "execute_result",
          "data": {
            "application/vnd.google.colaboratory.intrinsic+json": {
              "type": "string"
            },
            "text/plain": [
              "'Mon Sep  6 17:17:57 2021'"
            ]
          },
          "metadata": {},
          "execution_count": 20
        }
      ]
    },
    {
      "cell_type": "code",
      "metadata": {
        "colab": {
          "base_uri": "https://localhost:8080/"
        },
        "id": "2oxCQoa-cCZI",
        "outputId": "a8293d32-c0c0-47a2-8f94-d7e717158cdd"
      },
      "source": [
        "record.values()"
      ],
      "execution_count": 21,
      "outputs": [
        {
          "output_type": "execute_result",
          "data": {
            "text/plain": [
              "dict_values([{'name': 'Ashish Jangra', 'Pno': 1234, 'cgpa': 7.5}, {'name': 'Gurpreet Singh', 'Pno': 5678, 'cgpa': 8.2}, {'name': 'Rishu Kumar', 'Pno': 8984, 'cgpa': 7.8}])"
            ]
          },
          "metadata": {},
          "execution_count": 21
        }
      ]
    }
  ]
}